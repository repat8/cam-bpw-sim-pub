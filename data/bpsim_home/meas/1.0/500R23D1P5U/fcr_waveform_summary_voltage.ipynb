{
 "cells": [
  {
   "cell_type": "code",
   "execution_count": null,
   "metadata": {},
   "outputs": [],
   "source": [
    "import pandas as pd\n",
    "import pathlib as pl\n",
    "import seaborn as sns\n",
    "import h5py\n",
    "import cam_bpw_sim as bps\n",
    "import bpwave\n",
    "import bpwave.visu\n",
    "import matplotlib.pyplot as plt\n",
    "import datetime\n",
    "import numpy as np\n",
    "\n",
    "sns.set_style(\"whitegrid\")"
   ]
  },
  {
   "cell_type": "code",
   "execution_count": null,
   "metadata": {},
   "outputs": [],
   "source": [
    "datetime.datetime.now().isoformat(), bps.__version__"
   ]
  },
  {
   "cell_type": "code",
   "execution_count": null,
   "metadata": {},
   "outputs": [],
   "source": [
    "%matplotlib inline"
   ]
  },
  {
   "cell_type": "code",
   "execution_count": null,
   "metadata": {},
   "outputs": [],
   "source": [
    "app_config = bps.app.read_config()"
   ]
  },
  {
   "cell_type": "code",
   "execution_count": null,
   "metadata": {
    "tags": [
     "parameters"
    ]
   },
   "outputs": [],
   "source": [
    "par_result_folders = \"\"\n",
    "par_tag = \"*\"  # Unused"
   ]
  },
  {
   "cell_type": "code",
   "execution_count": null,
   "metadata": {},
   "outputs": [],
   "source": [
    "if not par_result_folders:\n",
    "    raise ValueError(\"par_result_folders should not be empty\")\n",
    "folders = par_result_folders.split(\",\")"
   ]
  },
  {
   "cell_type": "code",
   "execution_count": null,
   "metadata": {},
   "outputs": [],
   "source": [
    "def parse_fname(s):\n",
    "    p = pl.Path(s[\"path\"])\n",
    "    seq = int(p.suffixes[-3].lstrip(\".\"))\n",
    "    stem = p.name.removesuffix(\"\".join(p.suffixes))\n",
    "    protocol, cam, voltage, tag = stem.split(\"__\")\n",
    "    voltage = float(voltage.rstrip(\"V\"))\n",
    "    return stem, protocol, cam, voltage, tag, seq"
   ]
  },
  {
   "cell_type": "code",
   "execution_count": null,
   "metadata": {},
   "outputs": [],
   "source": [
    "result_files = pd.DataFrame(\n",
    "    {\n",
    "        \"path\": [\n",
    "            p\n",
    "            for f in folders\n",
    "            for p in (app_config.measurement_folder / f).glob(\"*.r.hdf5\")\n",
    "        ]\n",
    "    }\n",
    ")\n",
    "result_files[[\"stem\", \"protocol\", \"cam\", \"voltage\", \"tag\", \"seq\"]] = result_files.apply(\n",
    "    parse_fname, axis=1, result_type=\"expand\"\n",
    ")"
   ]
  },
  {
   "cell_type": "code",
   "execution_count": null,
   "metadata": {},
   "outputs": [],
   "source": [
    "result_files"
   ]
  },
  {
   "cell_type": "code",
   "execution_count": null,
   "metadata": {},
   "outputs": [],
   "source": [
    "tag = \"240202\""
   ]
  },
  {
   "cell_type": "code",
   "execution_count": null,
   "metadata": {},
   "outputs": [],
   "source": [
    "fcr_stats_cols = [\n",
    "    \"all_rep_fcrs\",\n",
    "    \"all_acc_fcrs\",\n",
    "]"
   ]
  },
  {
   "cell_type": "code",
   "execution_count": null,
   "metadata": {},
   "outputs": [],
   "source": [
    "def load_stats(row, datasets: list[str]) -> pd.DataFrame:\n",
    "    with h5py.File(row[\"path\"]) as f:\n",
    "        s = bpwave.Signal.from_hdf(f[\"measured_long_bw_corr\"])\n",
    "        ampl = np.array(\n",
    "            [(fcr_y := s[slc].y).max() - fcr_y.min() for slc in s.slices[\"fcr\"]]\n",
    "        ).mean()\n",
    "        dataframes = []\n",
    "        for dataset in datasets:\n",
    "            df = pd.DataFrame(ds := f[dataset], columns=ds.attrs[\"columns\"])\n",
    "            df[\"cam\"] = row[\"cam\"]\n",
    "            df[\"seq\"] = row[\"seq\"]\n",
    "            df[\"voltage\"] = row[\"voltage\"]\n",
    "            df[\"ampl\"] = ampl\n",
    "            dataframes.append(df)\n",
    "        # meas_params = bps.meas.MeasWithMeta.from_hdf(f[\"meas_params\"])\n",
    "        # cam_params = bps.cam.CamParams(f[\"cam_params\"])\n",
    "        # cam_inst_params = bps.cam.CamInstance.from_hdf(\"cam_inst\")\n",
    "\n",
    "    return dataframes"
   ]
  },
  {
   "cell_type": "code",
   "execution_count": null,
   "metadata": {},
   "outputs": [],
   "source": [
    "def load_meas_stats(row) -> dict:\n",
    "    record = {}\n",
    "    with h5py.File(row[\"path\"]) as f:\n",
    "        s = bpwave.Signal.from_hdf(f[\"measured_long_bw_corr\"])\n",
    "        ampl = np.array(\n",
    "            [(fcr_y := s[slc].y).max() - fcr_y.min() for slc in s.slices[\"fcr\"]]\n",
    "        ).mean()\n",
    "        record[\"cam\"] = row[\"cam\"]\n",
    "        record[\"seq\"] = row[\"seq\"]\n",
    "        record[\"voltage\"] = row[\"voltage\"]\n",
    "        record[\"ampl\"] = ampl\n",
    "        record |= {\n",
    "            f\"meas_{name}\": value\n",
    "            for name, value in bps.meas.MeasParams.from_hdf(\n",
    "                f[\"meas_params\"]\n",
    "            ).__dict__.items()\n",
    "        }\n",
    "        record |= {\n",
    "            f\"cam_{name}\": value\n",
    "            for name, value in bps.cam.CamParams.from_hdf(\n",
    "                f[\"cam_params\"]\n",
    "            ).__dict__.items()\n",
    "        }\n",
    "        record |= {\n",
    "            f\"cami_{name}\": value\n",
    "            for name, value in bps.cam.CamInstance.from_hdf(\n",
    "                f[\"cam_inst\"]\n",
    "            ).__dict__.items()\n",
    "        }\n",
    "\n",
    "    return record"
   ]
  },
  {
   "cell_type": "code",
   "execution_count": null,
   "metadata": {},
   "outputs": [],
   "source": [
    "meas_meta = pd.DataFrame.from_records(\n",
    "    [\n",
    "        load_meas_stats(row)\n",
    "        for _, row in result_files[result_files[\"tag\"] == tag].iterrows()\n",
    "    ]\n",
    ")\n",
    "meas_meta"
   ]
  },
  {
   "cell_type": "markdown",
   "metadata": {},
   "source": [
    "## Repeatability (precision)"
   ]
  },
  {
   "cell_type": "code",
   "execution_count": null,
   "metadata": {},
   "outputs": [],
   "source": [
    "fcr_rep_stats = pd.concat(\n",
    "    [\n",
    "        load_stats(row, fcr_stats_cols)[0]\n",
    "        for _, row in result_files[result_files[\"tag\"] == tag].iterrows()\n",
    "    ]\n",
    ")\n",
    "fcr_rep_stats"
   ]
  },
  {
   "cell_type": "code",
   "execution_count": null,
   "metadata": {},
   "outputs": [],
   "source": [
    "fcr_rep_stats[\"rmse_rep_fcrs_long_bw_corr_rel\"] = (\n",
    "    fcr_rep_stats[\"rmse_rep_fcrs_long_bw_corr\"] / fcr_rep_stats[\"ampl\"]\n",
    ")\n",
    "fcr_rep_stats"
   ]
  },
  {
   "cell_type": "code",
   "execution_count": null,
   "metadata": {},
   "outputs": [],
   "source": [
    "fcr_rep_stats.groupby([\"voltage\"]).count()"
   ]
  },
  {
   "cell_type": "code",
   "execution_count": null,
   "metadata": {},
   "outputs": [],
   "source": [
    "fcr_rep_stats.boxplot(\"rmse_rep_fcrs_long_bw_corr\", by=\"voltage\", vert=False)"
   ]
  },
  {
   "cell_type": "code",
   "execution_count": null,
   "metadata": {},
   "outputs": [],
   "source": [
    "fcr_rep_stats.boxplot(\"rmse_rep_fcrs_long_bw_corr\", by=[\"voltage\", \"seq\"], vert=False)"
   ]
  },
  {
   "cell_type": "code",
   "execution_count": null,
   "metadata": {},
   "outputs": [],
   "source": [
    "fcr_rep_stats.boxplot(\"pearson_rep_fcrs_long_bw_corr\", by=\"voltage\", vert=False)"
   ]
  },
  {
   "cell_type": "markdown",
   "metadata": {},
   "source": [
    "## Accuracy"
   ]
  },
  {
   "cell_type": "code",
   "execution_count": null,
   "metadata": {},
   "outputs": [],
   "source": [
    "fcr_acc_stats = pd.concat(\n",
    "    [\n",
    "        load_stats(row, fcr_stats_cols)[1]\n",
    "        for _, row in result_files[result_files[\"tag\"] == tag].iterrows()\n",
    "    ]\n",
    ")\n",
    "fcr_acc_stats"
   ]
  },
  {
   "cell_type": "code",
   "execution_count": null,
   "metadata": {},
   "outputs": [],
   "source": [
    "fcr_acc_stats[\"rmse_acc_fcrs_long_bw_corr_rel\"] = (\n",
    "    fcr_acc_stats[\"rmse_acc_fcrs_long_bw_corr\"] / fcr_acc_stats[\"ampl\"]\n",
    ")\n",
    "fcr_acc_stats[\"rmse_acc_fcrs_bw_corr_rel\"] = (\n",
    "    fcr_acc_stats[\"rmse_acc_fcrs_bw_corr\"] / fcr_acc_stats[\"ampl\"]\n",
    ")\n",
    "fcr_acc_stats"
   ]
  },
  {
   "cell_type": "code",
   "execution_count": null,
   "metadata": {},
   "outputs": [],
   "source": [
    "fcr_acc_stats.groupby([\"voltage\", \"cam\"]).mean()"
   ]
  },
  {
   "cell_type": "markdown",
   "metadata": {},
   "source": [
    "### Longterm BW corrected"
   ]
  },
  {
   "cell_type": "code",
   "execution_count": null,
   "metadata": {},
   "outputs": [],
   "source": [
    "fcr_acc_stats.boxplot(\"rmse_acc_fcrs_long_bw_corr\", by=\"voltage\", vert=False)"
   ]
  },
  {
   "cell_type": "code",
   "execution_count": null,
   "metadata": {},
   "outputs": [],
   "source": [
    "fcr_acc_stats.boxplot(\"rmse_acc_fcrs_long_bw_corr\", by=[\"voltage\", \"seq\"], vert=False)"
   ]
  },
  {
   "cell_type": "code",
   "execution_count": null,
   "metadata": {},
   "outputs": [],
   "source": [
    "fcr_acc_stats.boxplot(\"pearson_acc_fcrs_long_bw_corr\", by=\"voltage\", vert=False)"
   ]
  },
  {
   "cell_type": "markdown",
   "metadata": {},
   "source": [
    "### Full BW corrected"
   ]
  },
  {
   "cell_type": "code",
   "execution_count": null,
   "metadata": {},
   "outputs": [],
   "source": [
    "fcr_acc_stats.boxplot(\"rmse_acc_fcrs_bw_corr\", by=\"voltage\", vert=False)"
   ]
  },
  {
   "cell_type": "code",
   "execution_count": null,
   "metadata": {},
   "outputs": [],
   "source": [
    "fcr_acc_stats.boxplot(\"rmse_acc_fcrs_bw_corr\", by=[\"voltage\", \"seq\"], vert=False)"
   ]
  },
  {
   "cell_type": "code",
   "execution_count": null,
   "metadata": {},
   "outputs": [],
   "source": [
    "fcr_acc_stats.boxplot(\"pearson_acc_fcrs_bw_corr\", by=\"voltage\", vert=False)"
   ]
  },
  {
   "cell_type": "code",
   "execution_count": null,
   "metadata": {},
   "outputs": [],
   "source": [
    "fcr_acc_stats.boxplot(\"pearson_acc_fcrs_bw_corr\", by=[\"voltage\", \"seq\"], vert=False)"
   ]
  },
  {
   "cell_type": "markdown",
   "metadata": {},
   "source": [
    "## Tables"
   ]
  },
  {
   "cell_type": "markdown",
   "metadata": {},
   "source": [
    "### Precision"
   ]
  },
  {
   "cell_type": "code",
   "execution_count": null,
   "metadata": {},
   "outputs": [],
   "source": [
    "def to_latex(df: pd.DataFrame, index_cols: np.ndarray, cols: np.ndarray):\n",
    "    print(\n",
    "        \"\\\\begin{tabular}{\",\n",
    "        \"\".join(index_cols[:, 1].tolist() + cols[:, 1].tolist()),\n",
    "        \"}\",\n",
    "        sep=\"\",\n",
    "    )\n",
    "    print(\"\\\\toprule\")\n",
    "    print(\n",
    "        \" & \".join(f\"{{{c}}}\" for c in index_cols[:, 0].tolist() + cols[:, 0].tolist()),\n",
    "        end=\"\\\\\\\\\\n\",\n",
    "    )\n",
    "    print(\"\\\\midrule\")\n",
    "    for index, cols in df.iterrows():\n",
    "        print(\n",
    "            \" & \".join(str(c).replace(\"_\", \"\\\\_\") for c in np.atleast_1d(index)),\n",
    "            \" & \".join(str(c).replace(\"_\", \"\\\\_\") for c in np.atleast_1d(cols)),\n",
    "            sep=\" & \",\n",
    "            end=\"\\\\\\\\\\n\",\n",
    "        )\n",
    "    print(\"\\\\bottomrule\")\n",
    "    print(\"\\\\end{tabular}\")"
   ]
  },
  {
   "cell_type": "code",
   "execution_count": null,
   "metadata": {},
   "outputs": [],
   "source": [
    "prec = 4\n",
    "prec_col = \"S[round-precision=4]\"\n",
    "int_col = \"S[round-precision=0, table-format=4]\""
   ]
  },
  {
   "cell_type": "code",
   "execution_count": null,
   "metadata": {},
   "outputs": [],
   "source": [
    "fcr_rep_stats.columns"
   ]
  },
  {
   "cell_type": "code",
   "execution_count": null,
   "metadata": {},
   "outputs": [],
   "source": [
    "rep_table = (\n",
    "    fcr_rep_stats[\n",
    "        [\n",
    "            \"voltage\",\n",
    "            \"rmse_rep_fcrs_long_bw_corr\",\n",
    "            \"rmse_rep_fcrs_long_bw_corr_rel\",\n",
    "        ]\n",
    "    ]\n",
    "    .groupby(\"voltage\")\n",
    "    .agg(\n",
    "        count=(\"rmse_rep_fcrs_long_bw_corr\", \"count\"),\n",
    "        rmse_orig_mean=(\"rmse_rep_fcrs_long_bw_corr\", \"mean\"),\n",
    "        rmse_orig_std=(\"rmse_rep_fcrs_long_bw_corr\", \"std\"),\n",
    "        rmse_orig_median=(\"rmse_rep_fcrs_long_bw_corr\", \"median\"),\n",
    "        rmse_rel_mean=(\"rmse_rep_fcrs_long_bw_corr_rel\", \"mean\"),\n",
    "        rmse_rel_std=(\"rmse_rep_fcrs_long_bw_corr_rel\", \"std\"),\n",
    "        rmse_rel_median=(\"rmse_rep_fcrs_long_bw_corr_rel\", \"median\"),\n",
    "    )\n",
    ")"
   ]
  },
  {
   "cell_type": "code",
   "execution_count": null,
   "metadata": {},
   "outputs": [],
   "source": [
    "rep_table"
   ]
  },
  {
   "cell_type": "code",
   "execution_count": null,
   "metadata": {},
   "outputs": [],
   "source": [
    "to_latex(\n",
    "    rep_table,\n",
    "    index_cols=np.array(\n",
    "        [\n",
    "            [\"$U$\", \"r\"],\n",
    "        ]\n",
    "    ),\n",
    "    cols=np.array(\n",
    "        [\n",
    "            [\"\\\\#\", int_col],\n",
    "            [\"$\\\\overline{{E}}$\", prec_col],\n",
    "            [\"$\\\\sigma(E)$\", prec_col],\n",
    "            [\"$\\\\text{{med}}(E)$\", prec_col],\n",
    "            [\"$\\\\overline{{E_{{rel}} }}$\", prec_col],\n",
    "            [\"$\\\\sigma(E_{{rel}})$\", prec_col],\n",
    "            [\"$\\\\text{{med}}(E_{{rel}})$\", prec_col],\n",
    "        ]\n",
    "    ),\n",
    ")"
   ]
  },
  {
   "cell_type": "code",
   "execution_count": null,
   "metadata": {},
   "outputs": [],
   "source": [
    "fcr_rep_stats_gr = (\n",
    "    fcr_rep_stats[[\"voltage\", \"pearson_rep_fcrs_long_bw_corr\"]]\n",
    "    .groupby(\"voltage\")\n",
    "    .agg([\"mean\", \"std\"])\n",
    ")\n",
    "fcr_rep_stats_gr"
   ]
  },
  {
   "cell_type": "markdown",
   "metadata": {},
   "source": [
    "### Accuracy"
   ]
  },
  {
   "cell_type": "code",
   "execution_count": null,
   "metadata": {},
   "outputs": [],
   "source": [
    "fcr_acc_stats.columns"
   ]
  },
  {
   "cell_type": "code",
   "execution_count": null,
   "metadata": {},
   "outputs": [],
   "source": [
    "acc_table = (\n",
    "    fcr_acc_stats[\n",
    "        [\n",
    "            \"voltage\",\n",
    "            # \"rmse_acc_fcrs_long_bw_corr\",\n",
    "            # \"rmse_acc_fcrs_long_bw_corr_rel\",\n",
    "            \"rmse_acc_fcrs_bw_corr\",\n",
    "            \"rmse_acc_fcrs_bw_corr_rel\",\n",
    "        ]\n",
    "    ]\n",
    "    .groupby(\"voltage\")\n",
    "    .agg(\n",
    "        count=(\"rmse_acc_fcrs_bw_corr\", \"count\"),\n",
    "        rmse_orig_mean=(\"rmse_acc_fcrs_bw_corr\", \"mean\"),\n",
    "        rmse_orig_std=(\"rmse_acc_fcrs_bw_corr\", \"std\"),\n",
    "        rmse_orig_median=(\"rmse_acc_fcrs_bw_corr\", \"median\"),\n",
    "        rmse_rel_mean=(\"rmse_acc_fcrs_bw_corr_rel\", \"mean\"),\n",
    "        rmse_rel_std=(\"rmse_acc_fcrs_bw_corr_rel\", \"std\"),\n",
    "        rmse_rel_median=(\"rmse_acc_fcrs_bw_corr_rel\", \"median\"),\n",
    "    )\n",
    ")"
   ]
  },
  {
   "cell_type": "code",
   "execution_count": null,
   "metadata": {},
   "outputs": [],
   "source": [
    "acc_table"
   ]
  },
  {
   "cell_type": "code",
   "execution_count": null,
   "metadata": {},
   "outputs": [],
   "source": [
    "to_latex(\n",
    "    acc_table,\n",
    "    index_cols=np.array(\n",
    "        [\n",
    "            [\"$U$\", \"r\"],\n",
    "        ]\n",
    "    ),\n",
    "    cols=np.array(\n",
    "        [\n",
    "            [\"\\\\#\", int_col],\n",
    "            [\"$\\\\overline{E}$\", prec_col],\n",
    "            [\"$\\\\sigma(E)$\", prec_col],\n",
    "            [\"$\\\\text{med}(E)$\", prec_col],\n",
    "            [\"$\\\\overline{E_{rel}}$\", prec_col],\n",
    "            [\"$\\\\sigma(E_{rel})$\", prec_col],\n",
    "            [\"$\\\\text{med}(E_{rel})$\", prec_col],\n",
    "        ]\n",
    "    ),\n",
    ")"
   ]
  },
  {
   "cell_type": "code",
   "execution_count": null,
   "metadata": {},
   "outputs": [],
   "source": [
    "fcr_acc_stats_gr = (\n",
    "    fcr_acc_stats[[\"voltage\", \"pearson_acc_fcrs_bw_corr\"]]\n",
    "    .groupby(\"voltage\")\n",
    "    .agg([\"mean\", \"std\"])\n",
    ")\n",
    "fcr_acc_stats_gr"
   ]
  },
  {
   "cell_type": "code",
   "execution_count": null,
   "metadata": {},
   "outputs": [],
   "source": []
  }
 ],
 "metadata": {
  "kernelspec": {
   "display_name": "bpsim-sw-public",
   "language": "python",
   "name": "bpsim-sw-public"
  },
  "language_info": {
   "codemirror_mode": {
    "name": "ipython",
    "version": 3
   },
   "file_extension": ".py",
   "mimetype": "text/x-python",
   "name": "python",
   "nbconvert_exporter": "python",
   "pygments_lexer": "ipython3"
  }
 },
 "nbformat": 4,
 "nbformat_minor": 2
}
